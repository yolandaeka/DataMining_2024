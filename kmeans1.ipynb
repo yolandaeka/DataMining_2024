{
  "nbformat": 4,
  "nbformat_minor": 0,
  "metadata": {
    "colab": {
      "provenance": [],
      "authorship_tag": "ABX9TyMGP6oGOUY5VTiZGSD2wSq+",
      "include_colab_link": true
    },
    "kernelspec": {
      "name": "python3",
      "display_name": "Python 3"
    },
    "language_info": {
      "name": "python"
    }
  },
  "cells": [
    {
      "cell_type": "markdown",
      "metadata": {
        "id": "view-in-github",
        "colab_type": "text"
      },
      "source": [
        "<a href=\"https://colab.research.google.com/github/yolandaeka/DataMining_2024/blob/main/kmeans1.ipynb\" target=\"_parent\"><img src=\"https://colab.research.google.com/assets/colab-badge.svg\" alt=\"Open In Colab\"/></a>"
      ]
    },
    {
      "cell_type": "code",
      "execution_count": null,
      "metadata": {
        "colab": {
          "base_uri": "https://localhost:8080/"
        },
        "id": "1C7jZBGMMJQ5",
        "outputId": "7348f072-46b7-44da-d322-716f0a392690"
      },
      "outputs": [
        {
          "output_type": "stream",
          "name": "stdout",
          "text": [
            "Requirement already satisfied: scikit-learn in /usr/local/lib/python3.10/dist-packages (1.2.2)\n",
            "Requirement already satisfied: numpy>=1.17.3 in /usr/local/lib/python3.10/dist-packages (from scikit-learn) (1.25.2)\n",
            "Requirement already satisfied: scipy>=1.3.2 in /usr/local/lib/python3.10/dist-packages (from scikit-learn) (1.11.4)\n",
            "Requirement already satisfied: joblib>=1.1.1 in /usr/local/lib/python3.10/dist-packages (from scikit-learn) (1.4.2)\n",
            "Requirement already satisfied: threadpoolctl>=2.0.0 in /usr/local/lib/python3.10/dist-packages (from scikit-learn) (3.5.0)\n"
          ]
        }
      ],
      "source": [
        "pip install scikit-learn"
      ]
    },
    {
      "cell_type": "code",
      "source": [
        "from sklearn.cluster import KMeans\n",
        "import numpy as np\n",
        "import matplotlib.pyplot as plt\n",
        "\n",
        "\n",
        "# membuat data dummy\n",
        "x = np.array([[1,2],[1,4],[1,0],\n",
        "              [4,2],[4,4],[4,0]])\n",
        "\n",
        "# membuat model kmeans dengan jumlah kluster 2\n",
        "kmeans = KMeans(n_clusters=2, random_state=0)\n",
        "\n",
        "# melatih model\n",
        "kmeans.fit(x)\n",
        "\n",
        "# melihat hasil kluster masing masing\n",
        "labels = kmeans.labels_\n",
        "print(\"Labels: \",labels)\n",
        "\n",
        "# melihat centorid\n",
        "centroids = kmeans.cluster_centers_\n",
        "print(\"Centroids: \", centroids)\n",
        "\n",
        "#plotting hasil klustering\n",
        "plt.scatter(x[:,0], x[:,1], c = labels, cmap='viridis')\n",
        "plt.scatter(centroids[:,0], centroids[:,1], s = 300, c = 'red', marker = 'x')\n",
        "plt.show()"
      ],
      "metadata": {
        "id": "oPvwZtaPMvZX",
        "colab": {
          "base_uri": "https://localhost:8080/",
          "height": 537
        },
        "outputId": "e5242ef1-75cd-402d-ec50-7928520e6688"
      },
      "execution_count": 2,
      "outputs": [
        {
          "output_type": "stream",
          "name": "stderr",
          "text": [
            "/usr/local/lib/python3.10/dist-packages/sklearn/cluster/_kmeans.py:870: FutureWarning: The default value of `n_init` will change from 10 to 'auto' in 1.4. Set the value of `n_init` explicitly to suppress the warning\n",
            "  warnings.warn(\n"
          ]
        },
        {
          "output_type": "stream",
          "name": "stdout",
          "text": [
            "Labels:  [0 0 0 1 1 1]\n",
            "Centroids:  [[1. 2.]\n",
            " [4. 2.]]\n"
          ]
        },
        {
          "output_type": "display_data",
          "data": {
            "text/plain": [
              "<Figure size 640x480 with 1 Axes>"
            ],
            "image/png": "[encoded data removed]"
          },
          "metadata": {}
        }
      ]
    }
  ]
}